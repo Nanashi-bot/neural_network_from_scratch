{
 "cells": [
  {
   "cell_type": "code",
   "execution_count": 266,
   "id": "d65687f5-ad67-461f-a145-9a2327bcd4d5",
   "metadata": {},
   "outputs": [],
   "source": [
    "def y_coord(x):\n",
    "    # return 2*x+1\n",
    "    return x"
   ]
  },
  {
   "cell_type": "code",
   "execution_count": 267,
   "id": "a7b0f68b-fb77-481e-8f42-91b86954b70d",
   "metadata": {},
   "outputs": [],
   "source": [
    "import numpy as np\n",
    "x=np.array([[-3,-2,-1,0,1,2,3]])"
   ]
  },
  {
   "cell_type": "code",
   "execution_count": 268,
   "id": "93fb7ebf-5a82-44e9-ab80-1ea1ee4545a7",
   "metadata": {},
   "outputs": [],
   "source": [
    "y_act = np.array([y_coord(i) for i in x] )"
   ]
  },
  {
   "cell_type": "code",
   "execution_count": 270,
   "id": "fb8e6ada-4d1b-4fe0-9c57-45496d02827c",
   "metadata": {},
   "outputs": [
    {
     "data": {
      "text/plain": [
       "array([[-3, -2, -1,  0,  1,  2,  3]])"
      ]
     },
     "execution_count": 270,
     "metadata": {},
     "output_type": "execute_result"
    }
   ],
   "source": [
    "y_act"
   ]
  },
  {
   "cell_type": "code",
   "execution_count": 18,
   "id": "0075ff19-82a0-4e62-9a08-c03d66a7c519",
   "metadata": {},
   "outputs": [],
   "source": [
    "import matplotlib.pyplot as plt"
   ]
  },
  {
   "cell_type": "code",
   "execution_count": 229,
   "id": "671b1052-ab2c-43d8-a228-a0ae50073a8c",
   "metadata": {},
   "outputs": [
    {
     "data": {
      "text/plain": [
       "<matplotlib.collections.PathCollection at 0x1513129d0>"
      ]
     },
     "execution_count": 229,
     "metadata": {},
     "output_type": "execute_result"
    },
    {
     "data": {
      "image/png": "[encoded data removed]",
      "text/plain": [
       "<Figure size 640x480 with 1 Axes>"
      ]
     },
     "metadata": {},
     "output_type": "display_data"
    }
   ],
   "source": [
    "plt.scatter(x,y_act)\n"
   ]
  },
  {
   "cell_type": "code",
   "execution_count": 22,
   "id": "b8212f0d-af90-4121-9629-6e15bdfabd81",
   "metadata": {},
   "outputs": [],
   "source": [
    "import numpy as np\n",
    "\n",
    "def sigmoid(x):\n",
    "    return 1 / (1 + np.exp(-x))"
   ]
  },
  {
   "cell_type": "code",
   "execution_count": 23,
   "id": "7ee7c40a-47b3-4a00-8349-93047192618c",
   "metadata": {},
   "outputs": [],
   "source": [
    "import numpy as np\n",
    "\n",
    "def sigmoid_derivative(x):\n",
    "    s = sigmoid(x)\n",
    "    return s * (1 - s)"
   ]
  },
  {
   "cell_type": "code",
   "execution_count": 282,
   "id": "d42e45b0-1132-4f83-a45a-8e6d93ef916c",
   "metadata": {},
   "outputs": [],
   "source": [
    "import random \n",
    "import numpy as np\n",
    "w1 = np.array([[random.random(),random.random(),random.random()]])\n",
    "w2 = np.transpose(np.array([[random.random(),random.random(),random.random()]]))\n",
    "b1 = np.array([[random.random(),random.random(),random.random()]])\n",
    "b2 = np.array([[random.random()]])"
   ]
  },
  {
   "cell_type": "code",
   "execution_count": 27,
   "id": "e3665ddd-1114-49ac-9b41-a7c7f525da0c",
   "metadata": {
    "scrolled": true
   },
   "outputs": [
    {
     "data": {
      "text/plain": [
       "(1, 3)"
      ]
     },
     "execution_count": 27,
     "metadata": {},
     "output_type": "execute_result"
    }
   ],
   "source": [
    "w1.shape"
   ]
  },
  {
   "cell_type": "code",
   "execution_count": 29,
   "id": "694e5798-87c3-45fa-99d1-3802dda6b5dd",
   "metadata": {},
   "outputs": [
    {
     "data": {
      "text/plain": [
       "(3, 1)"
      ]
     },
     "execution_count": 29,
     "metadata": {},
     "output_type": "execute_result"
    }
   ],
   "source": [
    "w2.shape"
   ]
  },
  {
   "cell_type": "code",
   "execution_count": 30,
   "id": "3924de70-284d-40c2-898c-ec1ce9d1c211",
   "metadata": {},
   "outputs": [
    {
     "data": {
      "text/plain": [
       "(1, 3)"
      ]
     },
     "execution_count": 30,
     "metadata": {},
     "output_type": "execute_result"
    }
   ],
   "source": [
    "b1.shape"
   ]
  },
  {
   "cell_type": "code",
   "execution_count": 31,
   "id": "7339d5c3-c75e-40c9-aec0-60e133556ea3",
   "metadata": {},
   "outputs": [
    {
     "data": {
      "text/plain": [
       "(1, 1)"
      ]
     },
     "execution_count": 31,
     "metadata": {},
     "output_type": "execute_result"
    }
   ],
   "source": [
    "b2.shape"
   ]
  },
  {
   "cell_type": "code",
   "execution_count": 96,
   "id": "7a838175-e4a0-4667-9859-750402cf1606",
   "metadata": {},
   "outputs": [],
   "source": [
    "def forward(x,w1,w2,b1,b2):\n",
    "    y1 = np.apply_along_axis(sigmoid, axis=0, arr=np.dot(x,w1)+b1)\n",
    "    y2 = np.dot(y1,w2.reshape(3, 1))+b2\n",
    "    y3 = sigmoid(np.dot(y1,w2)+b2)\n",
    "    return y3"
   ]
  },
  {
   "cell_type": "code",
   "execution_count": 93,
   "id": "82668a2c-3cc8-49bf-833b-68cb215ddae0",
   "metadata": {},
   "outputs": [
    {
     "data": {
      "text/plain": [
       "(3, 1)"
      ]
     },
     "execution_count": 93,
     "metadata": {},
     "output_type": "execute_result"
    }
   ],
   "source": [
    "w2.shape"
   ]
  },
  {
   "cell_type": "code",
   "execution_count": 43,
   "id": "4a5d8ac0-c1b1-4245-a20c-e6cb9e6fccbc",
   "metadata": {},
   "outputs": [],
   "source": [
    "def fory1(x,w1,w2,b1,b2):\n",
    "    y1 = np.apply_along_axis(sigmoid, axis=0, arr=np.dot(x,w1)+b1)\n",
    "    return y1"
   ]
  },
  {
   "cell_type": "code",
   "execution_count": 142,
   "id": "5a4fd50b-bdfd-4985-9686-180445f1df34",
   "metadata": {},
   "outputs": [],
   "source": [
    " y1 = np.array([fory1(i,w1,w2,b1,b2) for i in x[0]])"
   ]
  },
  {
   "cell_type": "code",
   "execution_count": 145,
   "id": "a90286ce-5d26-47c2-80d2-e4b8ac1bae56",
   "metadata": {},
   "outputs": [
    {
     "data": {
      "text/plain": [
       "(1, 3)"
      ]
     },
     "execution_count": 145,
     "metadata": {},
     "output_type": "execute_result"
    }
   ],
   "source": [
    "y1[1].shape"
   ]
  },
  {
   "cell_type": "code",
   "execution_count": 44,
   "id": "deab63c7-c0e5-4a9e-80b4-7584600b56e8",
   "metadata": {},
   "outputs": [],
   "source": [
    "y3=forward(x[0][1],w1,w2,b1,b2)"
   ]
  },
  {
   "cell_type": "code",
   "execution_count": 140,
   "id": "a0c66178-3b56-4f49-bffe-b1490b16d64c",
   "metadata": {},
   "outputs": [],
   "source": [
    "y1=fory1(x[0][2],w1,w2,b1,b2)"
   ]
  },
  {
   "cell_type": "code",
   "execution_count": 47,
   "id": "a32fb914-a518-4469-b0c2-eafd84d8d01b",
   "metadata": {},
   "outputs": [],
   "source": [
    "def ssr(preds, acts):\n",
    "    j1 = pow((preds - acts),2)\n",
    "    j2 = np.sum(j1)\n",
    "    return j2"
   ]
  },
  {
   "cell_type": "code",
   "execution_count": 75,
   "id": "ba2aa0c7-13fc-465d-8efb-b715d0f4fc1b",
   "metadata": {},
   "outputs": [],
   "source": [
    "learning_rate = 0.01"
   ]
  },
  {
   "cell_type": "code",
   "execution_count": 65,
   "id": "b86523da-91f9-46ac-b95a-5667c6181ae7",
   "metadata": {},
   "outputs": [],
   "source": [
    "y_preds = np.array([forward(i,w1,w2,b1,b2) for i in x[0]])\n",
    "y_preds = np.transpose(y_preds.reshape((7, 1)))"
   ]
  },
  {
   "cell_type": "code",
   "execution_count": 66,
   "id": "b0b608a2-a371-458c-9927-aef2dc0a7aa0",
   "metadata": {},
   "outputs": [
    {
     "data": {
      "text/plain": [
       "array([[0.60874203, 0.6385032 , 0.67333181, 0.70810781, 0.73718642,\n",
       "        0.75845965, 0.77298441]])"
      ]
     },
     "execution_count": 66,
     "metadata": {},
     "output_type": "execute_result"
    }
   ],
   "source": [
    "y_preds"
   ]
  },
  {
   "cell_type": "code",
   "execution_count": 71,
   "id": "0dc57250-74f2-46c4-b233-e8e301946909",
   "metadata": {},
   "outputs": [
    {
     "data": {
      "text/plain": [
       "322.600830832283"
      ]
     },
     "execution_count": 71,
     "metadata": {},
     "output_type": "execute_result"
    }
   ],
   "source": [
    "ssr(y_preds,y_act)"
   ]
  },
  {
   "cell_type": "code",
   "execution_count": 67,
   "id": "6935c216-6642-430a-ba97-a2b778116545",
   "metadata": {},
   "outputs": [
    {
     "data": {
      "text/plain": [
       "(1, 7)"
      ]
     },
     "execution_count": 67,
     "metadata": {},
     "output_type": "execute_result"
    }
   ],
   "source": [
    "y_preds.shape"
   ]
  },
  {
   "cell_type": "code",
   "execution_count": 68,
   "id": "5993db65-5765-4e01-b9c2-34e47f1aceb3",
   "metadata": {},
   "outputs": [
    {
     "data": {
      "text/plain": [
       "(1, 7)"
      ]
     },
     "execution_count": 68,
     "metadata": {},
     "output_type": "execute_result"
    }
   ],
   "source": [
    "y_act.shape"
   ]
  },
  {
   "cell_type": "code",
   "execution_count": 393,
   "id": "79f365fc-762b-4e4a-b7b1-97f8373b538b",
   "metadata": {},
   "outputs": [
    {
     "data": {
      "text/plain": [
       "array([[0.77451521, 0.88356512, 1.0074158 , 1.13621837, 1.25761628,\n",
       "        1.36185384, 1.44507076]])"
      ]
     },
     "execution_count": 393,
     "metadata": {},
     "output_type": "execute_result"
    }
   ],
   "source": [
    "y_preds"
   ]
  },
  {
   "cell_type": "code",
   "execution_count": 331,
   "id": "fe4adda5-3421-48f0-862f-255003af70ce",
   "metadata": {},
   "outputs": [
    {
     "data": {
      "text/plain": [
       "array([[ 4,  1,  0,  1,  4,  9, 16]])"
      ]
     },
     "execution_count": 331,
     "metadata": {},
     "output_type": "execute_result"
    }
   ],
   "source": [
    "y_act"
   ]
  },
  {
   "cell_type": "code",
   "execution_count": 218,
   "id": "456f42f6-77c0-4bf6-a4ac-a69cc26e147c",
   "metadata": {},
   "outputs": [],
   "source": [
    "def backward(x,y_act,y_preds,learning_rate,w1,w2):\n",
    "    dssrbydpred = np.sum(-2*(y_act-y_preds))\n",
    "    \n",
    "    dssrbydb4 = dssrbydpred \n",
    "    \n",
    "    dssrbydw4 = 0\n",
    "    dssrbydw5 = 0\n",
    "    dssrbydw6 = 0\n",
    "    \n",
    "    dssrbydw1=0\n",
    "    dssrbydw2=0\n",
    "    dssrbydw3=0\n",
    "    \n",
    "    dssrbydb1=0\n",
    "    dssrbydb2=0\n",
    "    dssrbydb3=0\n",
    "    for i in range(len(y_act[0])):\n",
    "        dssrbydw4 += -2*(y_act[0][i]-y_preds[0][i])*sigmoid(x[0][i]*w1[0][0]+b1[0][0])\n",
    "        dssrbydw5 += -2*(y_act[0][i]-y_preds[0][i])*sigmoid(x[0][i]*w1[0][1]+b1[0][1])\n",
    "        dssrbydw6 += -2*(y_act[0][i]-y_preds[0][i])*sigmoid(x[0][i]*w1[0][1]+b1[0][2])\n",
    "        dssrbydw1 += -2*(y_act[0][i]-y_preds[0][i])*w2[0][0]*sigmoid_derivative(x[0][i]*w1[0][0]+b1[0][0])*x[0][i]\n",
    "        dssrbydw2 += -2*(y_act[0][i]-y_preds[0][i])*w2[1][0]*sigmoid_derivative(x[0][i]*w1[0][1]+b1[0][1])*x[0][i]\n",
    "        dssrbydw3 += -2*(y_act[0][i]-y_preds[0][i])*w2[2][0]*sigmoid_derivative(x[0][i]*w1[0][2]+b1[0][2])*x[0][i]\n",
    "\n",
    "        dssrbydb1 += -2*(y_act[0][i]-y_preds[0][i])*w2[0][0]*sigmoid_derivative(x[0][i]*w1[0][0]+b1[0][0])\n",
    "        dssrbydb2 += -2*(y_act[0][i]-y_preds[0][i])*w2[1][0]*sigmoid_derivative(x[0][i]*w1[0][1]+b1[0][1])\n",
    "        dssrbydb3 += -2*(y_act[0][i]-y_preds[0][i])*w2[2][0]*sigmoid_derivative(x[0][i]*w1[0][2]+b1[0][2])\n",
    "        \n",
    "    new_w4 = w2[0] - dssrbydw4*learning_rate\n",
    "    new_w5 = w2[1] - dssrbydw5*learning_rate\n",
    "    new_w6 = w2[2] - dssrbydw6*learning_rate\n",
    "    \n",
    "    new_w1 = w1[0][0] - dssrbydw1*learning_rate\n",
    "    new_w2 = w1[0][1] - dssrbydw2*learning_rate\n",
    "    new_w3 = w1[0][2] - dssrbydw3*learning_rate\n",
    "\n",
    "    new_b1 = b1[0][0] - dssrbydb1*learning_rate\n",
    "    new_b2 = b1[0][1] - dssrbydb2*learning_rate\n",
    "    new_b3 = b1[0][2] - dssrbydb3*learning_rate\n",
    "\n",
    "    new_b4 = b2[0][0] - dssrbydb4*learning_rate\n",
    "\n",
    "    changed_w1 = np.array([[new_w1,new_w2,new_w3]])\n",
    "    changed_w2 = np.array([new_w4,new_w5,new_w6])\n",
    "    changed_b1 = np.transpose(np.array([new_b1,new_b2,new_b3]))\n",
    "    changed_b2 = np.array([[new_b4]])\n",
    "    \n",
    "    return changed_w1, changed_w2, changed_b1,changed_b2"
   ]
  },
  {
   "cell_type": "code",
   "execution_count": 212,
   "id": "2fb622aa-3135-47aa-bbf2-0f495c11736d",
   "metadata": {},
   "outputs": [
    {
     "name": "stdout",
     "output_type": "stream",
     "text": [
      "[0.61007841 0.68025219 0.7159074 ]\n",
      "[0.61007841 0.68025219 0.7159074 ]\n",
      "[0.61007841 0.68025219 0.7159074 ]\n",
      "[0.61007841 0.68025219 0.7159074 ]\n",
      "[0.61007841 0.68025219 0.7159074 ]\n",
      "[0.61007841 0.68025219 0.7159074 ]\n",
      "[0.61007841 0.68025219 0.7159074 ]\n"
     ]
    }
   ],
   "source": [
    "a,b,c,d = backward(x,y_act,y_preds,learning_rate,w1,w2)"
   ]
  },
  {
   "cell_type": "code",
   "execution_count": 213,
   "id": "7fa48ad5-cfc4-428d-aaba-7fbade6a82b2",
   "metadata": {},
   "outputs": [
    {
     "data": {
      "text/plain": [
       "(1, 3)"
      ]
     },
     "execution_count": 213,
     "metadata": {},
     "output_type": "execute_result"
    }
   ],
   "source": [
    "a.shape"
   ]
  },
  {
   "cell_type": "code",
   "execution_count": 276,
   "id": "4961436e-1cd1-4963-b3b9-41c889721fc9",
   "metadata": {},
   "outputs": [],
   "source": [
    "def display(w1,w2,b1,b2):\n",
    "    print(w1)\n",
    "    print()\n",
    "    print(w2)\n",
    "    print()\n",
    "    print(b1)\n",
    "    print()\n",
    "    print(b2)\n",
    "    print()"
   ]
  },
  {
   "cell_type": "code",
   "execution_count": 277,
   "id": "1daf7055-f306-4ed9-a7dc-5b18cb4a9b84",
   "metadata": {},
   "outputs": [
    {
     "name": "stdout",
     "output_type": "stream",
     "text": [
      "[[1 0 0]]\n",
      "\n",
      "[[1]\n",
      " [0]\n",
      " [0]]\n",
      "\n",
      "[[0 0 0]]\n",
      "\n",
      "[[0]]\n",
      "\n"
     ]
    }
   ],
   "source": [
    "display(w1,w2,b1,b2)"
   ]
  },
  {
   "cell_type": "code",
   "execution_count": 278,
   "id": "39381dcb-49d9-48e2-977e-79d7dfbefb71",
   "metadata": {},
   "outputs": [],
   "source": [
    "def iterations(m,w1,w2,b1,b2):\n",
    "    for i in range(m):\n",
    "        # print(\"Iteration \",i+1,w2)\n",
    "        y_preds = np.array([forward(i,w1,w2,b1,b2) for i in x[0]])\n",
    "        y_preds = np.transpose(y_preds.reshape((7, 1)))\n",
    "        if i%1000==0:\n",
    "            print(\"Error at step \",i,\" is \",ssr(y_preds,y_act))\n",
    "        w1,w2,b1,b2=backward(x,y_act,y_preds,0.001,w1,w2)\n",
    "        \n",
    "    print(y_preds)"
   ]
  },
  {
   "cell_type": "code",
   "execution_count": 279,
   "id": "c560caaa-a0d0-47d9-a6b6-62ca7e62d689",
   "metadata": {},
   "outputs": [
    {
     "name": "stdout",
     "output_type": "stream",
     "text": [
      "Error at step  0  is  28.543695452409285\n",
      "Error at step  1000  is  19.006714157285536\n",
      "Error at step  2000  is  19.000017603220883\n",
      "Error at step  3000  is  19.000000045130676\n",
      "Error at step  4000  is  19.000000000114166\n",
      "Error at step  5000  is  19.000000000000288\n",
      "Error at step  6000  is  19.0\n",
      "Error at step  7000  is  19.0\n",
      "Error at step  8000  is  19.0\n",
      "Error at step  9000  is  19.0\n",
      "Error at step  10000  is  19.0\n",
      "Error at step  11000  is  19.0\n",
      "Error at step  12000  is  19.0\n",
      "Error at step  13000  is  19.0\n",
      "Error at step  14000  is  19.0\n",
      "Error at step  15000  is  19.0\n",
      "Error at step  16000  is  19.0\n",
      "Error at step  17000  is  19.0\n",
      "Error at step  18000  is  19.0\n",
      "Error at step  19000  is  19.0\n",
      "Error at step  20000  is  19.0\n",
      "Error at step  21000  is  19.0\n",
      "Error at step  22000  is  19.0\n",
      "Error at step  23000  is  19.0\n",
      "Error at step  24000  is  19.0\n",
      "Error at step  25000  is  19.0\n",
      "Error at step  26000  is  19.0\n",
      "Error at step  27000  is  19.0\n",
      "Error at step  28000  is  19.0\n",
      "Error at step  29000  is  19.0\n"
     ]
    },
    {
     "name": "stderr",
     "output_type": "stream",
     "text": [
      "/var/folders/hp/36jbk5kd4k14sqknq07wz0kr0000gn/T/ipykernel_19230/2743225879.py:4: RuntimeWarning: overflow encountered in exp\n",
      "  return 1 / (1 + np.exp(-x))\n"
     ]
    },
    {
     "name": "stdout",
     "output_type": "stream",
     "text": [
      "Error at step  30000  is  19.0\n",
      "Error at step  31000  is  19.0\n",
      "Error at step  32000  is  19.0\n",
      "Error at step  33000  is  19.0\n",
      "Error at step  34000  is  19.0\n",
      "Error at step  35000  is  19.0\n",
      "Error at step  36000  is  19.0\n",
      "Error at step  37000  is  19.0\n",
      "Error at step  38000  is  19.0\n",
      "Error at step  39000  is  19.0\n",
      "Error at step  40000  is  19.0\n",
      "Error at step  41000  is  19.0\n",
      "Error at step  42000  is  19.0\n",
      "Error at step  43000  is  19.0\n",
      "Error at step  44000  is  19.0\n",
      "Error at step  45000  is  19.0\n",
      "Error at step  46000  is  19.0\n",
      "Error at step  47000  is  19.0\n",
      "Error at step  48000  is  19.0\n",
      "Error at step  49000  is  19.0\n",
      "Error at step  50000  is  19.0\n",
      "Error at step  51000  is  19.0\n",
      "Error at step  52000  is  19.0\n",
      "Error at step  53000  is  19.0\n",
      "Error at step  54000  is  19.0\n",
      "Error at step  55000  is  19.0\n",
      "Error at step  56000  is  19.0\n",
      "Error at step  57000  is  19.0\n",
      "Error at step  58000  is  19.0\n",
      "Error at step  59000  is  19.0\n",
      "Error at step  60000  is  19.0\n",
      "Error at step  61000  is  19.0\n",
      "Error at step  62000  is  19.0\n",
      "Error at step  63000  is  19.0\n",
      "Error at step  64000  is  19.0\n",
      "Error at step  65000  is  19.0\n",
      "Error at step  66000  is  19.0\n",
      "Error at step  67000  is  19.0\n",
      "Error at step  68000  is  19.0\n",
      "Error at step  69000  is  19.0\n",
      "Error at step  70000  is  19.0\n",
      "Error at step  71000  is  19.0\n",
      "Error at step  72000  is  19.0\n",
      "Error at step  73000  is  19.0\n",
      "Error at step  74000  is  19.0\n",
      "Error at step  75000  is  19.0\n",
      "Error at step  76000  is  19.0\n",
      "Error at step  77000  is  19.0\n",
      "Error at step  78000  is  19.0\n",
      "Error at step  79000  is  19.0\n",
      "Error at step  80000  is  19.0\n",
      "Error at step  81000  is  19.0\n",
      "Error at step  82000  is  19.0\n",
      "Error at step  83000  is  19.0\n",
      "Error at step  84000  is  19.0\n",
      "Error at step  85000  is  19.0\n",
      "Error at step  86000  is  19.0\n",
      "Error at step  87000  is  19.0\n",
      "Error at step  88000  is  19.0\n",
      "Error at step  89000  is  19.0\n",
      "Error at step  90000  is  19.0\n",
      "Error at step  91000  is  19.0\n",
      "Error at step  92000  is  19.0\n",
      "Error at step  93000  is  19.0\n",
      "Error at step  94000  is  19.0\n",
      "Error at step  95000  is  19.0\n",
      "Error at step  96000  is  19.0\n",
      "Error at step  97000  is  19.0\n",
      "Error at step  98000  is  19.0\n",
      "Error at step  99000  is  19.0\n",
      "[[0. 0. 0. 0. 1. 1. 1.]]\n"
     ]
    }
   ],
   "source": [
    "iterations(100000,w1,w2,b1,b2)"
   ]
  },
  {
   "cell_type": "code",
   "execution_count": 280,
   "id": "310488a5-fc39-4d81-ba7b-e36595501774",
   "metadata": {},
   "outputs": [],
   "source": [
    "y_preds = np.array([forward(i,w1,w2,b1,b2) for i in x[0]])\n",
    "y_preds = np.transpose(y_preds.reshape((7, 1)))"
   ]
  },
  {
   "cell_type": "code",
   "execution_count": 281,
   "id": "e2904c13-b436-478f-9a70-5077f911f354",
   "metadata": {},
   "outputs": [
    {
     "data": {
      "text/plain": [
       "array([[0.51185425, 0.52976549, 0.56683301, 0.62245933, 0.67503753,\n",
       "        0.70698737, 0.72163256]])"
      ]
     },
     "execution_count": 281,
     "metadata": {},
     "output_type": "execute_result"
    }
   ],
   "source": [
    "y_preds"
   ]
  },
  {
   "cell_type": "code",
   "execution_count": 256,
   "id": "c8285d91-ae78-4205-b9ea-95db2ff1130c",
   "metadata": {},
   "outputs": [
    {
     "data": {
      "text/plain": [
       "array([[-5, -3, -1,  1,  3,  5,  7]])"
      ]
     },
     "execution_count": 256,
     "metadata": {},
     "output_type": "execute_result"
    }
   ],
   "source": [
    "y_act "
   ]
  },
  {
   "cell_type": "code",
   "execution_count": null,
   "id": "e83858b8-cceb-4c8a-aada-0d7065cec52b",
   "metadata": {},
   "outputs": [],
   "source": []
  }
 ],
 "metadata": {
  "kernelspec": {
   "display_name": "Python 3 (ipykernel)",
   "language": "python",
   "name": "python3"
  },
  "language_info": {
   "codemirror_mode": {
    "name": "ipython",
    "version": 3
   },
   "file_extension": ".py",
   "mimetype": "text/x-python",
   "name": "python",
   "nbconvert_exporter": "python",
   "pygments_lexer": "ipython3",
   "version": "3.11.7"
  }
 },
 "nbformat": 4,
 "nbformat_minor": 5
}
